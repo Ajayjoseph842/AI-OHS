{
  "nbformat": 4,
  "nbformat_minor": 0,
  "metadata": {
    "colab": {
      "provenance": [],
      "authorship_tag": "ABX9TyOh2k2rs0obmzgFHBxt6MBU",
      "include_colab_link": true
    },
    "kernelspec": {
      "name": "python3",
      "display_name": "Python 3"
    },
    "language_info": {
      "name": "python"
    }
  },
  "cells": [
    {
      "cell_type": "markdown",
      "metadata": {
        "id": "view-in-github",
        "colab_type": "text"
      },
      "source": [
        "<a href=\"https://colab.research.google.com/github/Ajayjoseph842/AI-OHS/blob/main/colab_pipeline.ipynb\" target=\"_parent\"><img src=\"https://colab.research.google.com/assets/colab-badge.svg\" alt=\"Open In Colab\"/></a>"
      ]
    },
    {
      "cell_type": "code",
      "source": [
        "# 📌 STEP 1: Install libraries\n",
        "!pip install --upgrade gspread pandas openpyxl gspread_dataframe requests\n",
        "\n",
        "# 📌 STEP 2: Authenticate and connect to Google Sheets\n",
        "import gspread\n",
        "from google.colab import auth\n",
        "from gspread_dataframe import get_as_dataframe, set_with_dataframe\n",
        "import pandas as pd\n",
        "import requests\n",
        "import time\n",
        "\n",
        "# Authenticate with Google\n",
        "auth.authenticate_user()\n",
        "from google.auth import default\n",
        "from google.auth.transport.requests import Request\n",
        "import gspread\n",
        "\n",
        "creds, _ = default()\n",
        "creds.refresh(Request())\n",
        "gc = gspread.authorize(creds)\n",
        "\n",
        "# Connect to the spreadsheet by ID\n",
        "spreadsheet = gc.open_by_key(\"1HwD1ZmOprV_RP1o3lgieCB6hI3R86v3PcvFciU3arxU\")\n",
        "worksheet = spreadsheet.sheet1  # Assuming form responses are in the first sheet\n",
        "\n",
        "# 📌 STEP 3: Read data from the sheet\n",
        "df = get_as_dataframe(worksheet).dropna(how='all')\n",
        "\n",
        "# Rename for consistency if needed\n",
        "df.columns = [c.strip() for c in df.columns]\n",
        "incident_col = [col for col in df.columns if \"description\" in col.lower()][0]\n",
        "\n",
        "# 📌 STEP 4: Add AI columns if not present\n",
        "if 'AI Summary' not in df.columns:\n",
        "    df['AI Summary'] = \"\"\n",
        "if 'Hazard Tags' not in df.columns:\n",
        "    df['Hazard Tags'] = \"\"\n",
        "\n",
        "# 📌 STEP 5: OpenRouter setup\n",
        "api_key = \"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\"  # 🔁 Replace this with your OpenRouter key\n",
        "headers = {\n",
        "    \"Authorization\": f\"Bearer {api_key}\",\n",
        "    \"Content-Type\": \"application/json\"\n",
        "}\n",
        "\n",
        "def summarize_incident(text):\n",
        "    try:\n",
        "        payload = {\n",
        "            \"model\": \"mistralai/mistral-7b-instruct\",\n",
        "            \"messages\": [\n",
        "                {\n",
        "                    \"role\": \"system\",\n",
        "                    \"content\": \"You are a safety officer. Summarize incident reports and tag likely hazards.\"\n",
        "                },\n",
        "                {\n",
        "                    \"role\": \"user\",\n",
        "                    \"content\": f\"Incident:\\n{text}\\n\\nProvide a short summary and likely hazard categories.\"\n",
        "                }\n",
        "            ]\n",
        "        }\n",
        "\n",
        "        res = requests.post(\"https://openrouter.ai/api/v1/chat/completions\", json=payload, headers=headers)\n",
        "        result = res.json()\n",
        "        return result['choices'][0]['message']['content']\n",
        "\n",
        "    except Exception as e:\n",
        "        return f\"Error: {str(e)}\"\n",
        "\n",
        "# 📌 STEP 6: Apply AI to unprocessed rows\n",
        "for i, row in df.iterrows():\n",
        "    if pd.isna(row['AI Summary']) or row['AI Summary'].strip() == \"\":\n",
        "        print(f\"Processing row {i+1}...\")\n",
        "        result = summarize_incident(row[incident_col])\n",
        "        parts = result.split(\"\\n\")\n",
        "        df.at[i, 'AI Summary'] = parts[0] if parts else result\n",
        "        df.at[i, 'Hazard Tags'] = \", \".join(parts[1:]) if len(parts) > 1 else \"Unknown\"\n",
        "        time.sleep(2)\n",
        "\n",
        "# 📌 STEP 7: Export for Power BI (optional)\n",
        "df.to_csv(\"enhanced_incidents.csv\", index=False)\n",
        "print(\"✅ Done! CSV saved.\")\n",
        "\n",
        "# 📌 STEP 8 (Optional): Push updated data back to Google Sheet\n",
        "# Uncomment below line if you want to overwrite the sheet with AI results:\n",
        "# set_with_dataframe(worksheet, df)\n"
      ],
      "metadata": {
        "id": "VJv9t-yAHlgv"
      },
      "execution_count": null,
      "outputs": []
    }
  ]
}